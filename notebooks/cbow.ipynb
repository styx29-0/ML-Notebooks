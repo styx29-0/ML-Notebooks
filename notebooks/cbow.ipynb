{
 "cells": [
  {
   "cell_type": "markdown",
   "metadata": {},
   "source": [
    "# Continuous Bag of Words (CBOW) Text Classifier\n",
    "\n",
    "The code below implements a continuous bag of words text classifier.\n",
    "- We tokenize the text, create a vocabulary and encode each piece of text in the dataset\n",
    "- The lookup allows for extracting embeddings for each tokenized input\n",
    "- The embedding vectors are added together\n",
    "- The resulting vector is multiplied with a weight matrix, which is then added a bias vector; this results in scores\n",
    "- The scores are applied a softmax to generate probabilities which are used for the final classification\n",
    "\n",
    "The code used in this notebook was inspired by code from the [official repo](https://github.com/neubig/nn4nlp-code) used in the [CMU Neural Networks for NLP class](http://www.phontron.com/class/nn4nlp2021/schedule.html) by [Graham Neubig](http://www.phontron.com/index.php). \n",
    "\n",
    "![img txt](../img/cbow.png?raw=true)"
   ]
  },
  {
   "cell_type": "code",
   "execution_count": 1,
   "metadata": {},
   "outputs": [],
   "source": [
    "import torch\n",
    "import random\n",
    "import torch.nn as nn"
   ]
  },
  {
   "cell_type": "code",
   "execution_count": null,
   "metadata": {},
   "outputs": [],
   "source": [
    "% % capture\n",
    "''' uncomment to download the data\n",
    "# download the files\n",
    "!wget https://raw.githubusercontent.com/neubig/nn4nlp-code/master/data/classes/dev.txt\n",
    "!wget https://raw.githubusercontent.com/neubig/nn4nlp-code/master/data/classes/test.txt\n",
    "!wget https://raw.githubusercontent.com/neubig/nn4nlp-code/master/data/classes/train.txt\n",
    "\n",
    "# create the data folders\n",
    "!mkdir data data/classes\n",
    "!cp dev.txt data/classes\n",
    "!cp test.txt data/classes\n",
    "!cp train.txt data/classes\n",
    "'''"
   ]
  },
  {
   "cell_type": "markdown",
   "metadata": {},
   "source": [
    "## Read and Process Data"
   ]
  },
  {
   "cell_type": "code",
   "execution_count": 2,
   "metadata": {},
   "outputs": [],
   "source": [
    "# function to read in data, process each line and split columns by \" ||| \"\n",
    "def read_data(filename):        # 读取文件数据\n",
    "    data = []       # 空列表用于存储数据\n",
    "    with open(filename, 'r') as f:      # 打开指定文件，使用只读模式，并赋值给f\n",
    "        for line in f:      # 遍历每一行\n",
    "            line = line.lower().strip()     # 将当前的内容转换为小写字母，并去除两端的空格和换行符\n",
    "            line = line.split(' ||| ')      # 将当前行分为多个列\n",
    "            data.append(line)               # 将分割后的行数据添加到列表中\n",
    "    return data\n",
    "\n",
    "\n",
    "# 读取数据\n",
    "train_data = read_data('data/classes/train.txt')\n",
    "test_data = read_data('data/classes/test.txt')\n",
    "\n",
    "# creating the word and tag indices\n",
    "word_to_index = {}      # 创建空字典用于存储单词到索引的映射关系\n",
    "word_to_index[\"<unk>\"] = len(word_to_index)  # add <UNK> to dictionary\n",
    "tag_to_index = {}       # 创建空字典用于存储标签到索引的映射关系\n",
    "\n",
    "# create word to index dictionary and tag to index dictionary from data\n",
    "def create_dict(data, check_unk=False):\n",
    "    for line in data:       # 对数据中每一行进行迭代\n",
    "        for word in line[1].split(\" \"):     # 对当前行的第二个元素孔明下哦美好迭代使用空格作为分隔符将其分割为多个单词，并对这些单词进行迭代\n",
    "            if check_unk == False:      # 是否需要进行未知单词处理\n",
    "                if word not in word_to_index:       # 如果单词不在字典中\n",
    "                    word_to_index[word] = len(word_to_index)    # 将其添加到字典中\n",
    "            else:\n",
    "                if word not in word_to_index:       # 需要对未知单词进行处理\n",
    "                    word_to_index[word] = word_to_index[\"<unk>\"]    # 将其添加到字典中\n",
    "\n",
    "        if line[0] not in tag_to_index:         # 如果当前行的第一个元素（标签）不在字典中\n",
    "            tag_to_index[line[0]] = len(tag_to_index)   # 将当前行的第一个单词作为键，将len(tag_to_index)作为值加入到字典中\n",
    "\n",
    "# 基于训练数据和测试数据创建单词到索引和标签到索引的字典\n",
    "create_dict(train_data)\n",
    "create_dict(test_data, check_unk=True)\n",
    "\n",
    "# create word and tag tensors from data\n",
    "def create_tensor(data):\n",
    "    for line in data:       # 对数据集的每一行进行迭代\n",
    "        # 对当前行的第二个元素进行处理，将其按空格进行分割，得到一个包含单词的列表\n",
    "        # 将单词转换为索引\n",
    "        # 生成一个包含当前行的单词索引的列表\n",
    "        # tag_to_index[line[0]]获取当前行的标签索引\n",
    "        # 生成一个包含单词索引和标签索引的元组\n",
    "        yield ([word_to_index[word] for word in line[1].split(\" \")], tag_to_index[line[0]])\n",
    "\n",
    "\n",
    "train_data = list(create_tensor(train_data))        # 将训练数据集转换为生成器对象，使用list将其转换成一个包含所有生成器元素的列表\n",
    "test_data = list(create_tensor(test_data))\n",
    "\n",
    "number_of_words = len(word_to_index)        # 单词数量\n",
    "number_of_tags = len(tag_to_index)          # 标签数量"
   ]
  },
  {
   "cell_type": "markdown",
   "metadata": {},
   "source": [
    "## Model"
   ]
  },
  {
   "cell_type": "code",
   "execution_count": 1,
   "metadata": {},
   "outputs": [
    {
     "ename": "NameError",
     "evalue": "name 'torch' is not defined",
     "output_type": "error",
     "traceback": [
      "\u001b[0;31m---------------------------------------------------------------------------\u001b[0m",
      "\u001b[0;31mNameError\u001b[0m                                 Traceback (most recent call last)",
      "\u001b[0;32m/tmp/ipykernel_3236/4002993260.py\u001b[0m in \u001b[0;36m<module>\u001b[0;34m\u001b[0m\n\u001b[1;32m      1\u001b[0m \u001b[0;31m# cpu or gpu\u001b[0m\u001b[0;34m\u001b[0m\u001b[0;34m\u001b[0m\u001b[0;34m\u001b[0m\u001b[0m\n\u001b[0;32m----> 2\u001b[0;31m \u001b[0mdevice\u001b[0m \u001b[0;34m=\u001b[0m \u001b[0;34m\"cuda\"\u001b[0m \u001b[0;32mif\u001b[0m \u001b[0mtorch\u001b[0m\u001b[0;34m.\u001b[0m\u001b[0mcuda\u001b[0m\u001b[0;34m.\u001b[0m\u001b[0mis_available\u001b[0m\u001b[0;34m(\u001b[0m\u001b[0;34m)\u001b[0m \u001b[0;32melse\u001b[0m \u001b[0;34m\"cpu\"\u001b[0m\u001b[0;34m\u001b[0m\u001b[0;34m\u001b[0m\u001b[0m\n\u001b[0m\u001b[1;32m      3\u001b[0m \u001b[0;34m\u001b[0m\u001b[0m\n\u001b[1;32m      4\u001b[0m \u001b[0;31m# create a simple neural network with embedding layer, bias, and xavier initialization\u001b[0m\u001b[0;34m\u001b[0m\u001b[0;34m\u001b[0m\u001b[0;34m\u001b[0m\u001b[0m\n\u001b[1;32m      5\u001b[0m \u001b[0;32mclass\u001b[0m \u001b[0mCBoW\u001b[0m\u001b[0;34m(\u001b[0m\u001b[0mtorch\u001b[0m\u001b[0;34m.\u001b[0m\u001b[0mnn\u001b[0m\u001b[0;34m.\u001b[0m\u001b[0mModule\u001b[0m\u001b[0;34m)\u001b[0m\u001b[0;34m:\u001b[0m\u001b[0;34m\u001b[0m\u001b[0;34m\u001b[0m\u001b[0m\n",
      "\u001b[0;31mNameError\u001b[0m: name 'torch' is not defined"
     ]
    }
   ],
   "source": [
    "# cpu or gpu\n",
    "# 根据当前环境中是否有可用的CUDA设备\n",
    "device = \"cuda\" if torch.cuda.is_available() else \"cpu\"\n",
    "\n",
    "# create a simple neural network with embedding layer, bias, and xavier initialization\n",
    "# 神经网络模型\n",
    "class CBoW(torch.nn.Module):\n",
    "    def __init__(self, nwords, ntags, emb_size):    # 构造函数\n",
    "        super(CBoW, self).__init__()\n",
    "\n",
    "        # layers\n",
    "        # 创建一个嵌入层，将单词索引转换为对应的嵌入表示\n",
    "        self.embedding = torch.nn.Embedding(nwords, emb_size)\n",
    "        # 创建一个线性层，将嵌入表示映射到标签的输出空间\n",
    "        self.linear = torch.nn.Linear(emb_size, ntags)\n",
    "\n",
    "        # use xavier initialization for weights\n",
    "        # 使用 Xavier 初始化方法对嵌入层的权重和线性层的权重进行初始化\n",
    "        nn.init.xavier_uniform_(self.embedding.weight)\n",
    "        nn.init.xavier_uniform_(self.linear.weight)\n",
    "\n",
    "    def forward(self, x):       # 前向传播方法\n",
    "        emb = self.embedding(x)  # 形状大小为seq*emb_size       # 经过嵌入层得到嵌入表示\n",
    "        out = torch.sum(emb, dim=0)  # emb_size     # 对嵌入表示进行求和，得到一个表示整个序列的向量\n",
    "        out = out.view(1, -1)  # reshape to (1, emb_size)       # 进行形状变换\n",
    "        out = self.linear(out)  # 1 x ntags         # 通过线性层进行线性变换\n",
    "        return out\n",
    "\n",
    "\n",
    "EMB_SIZE = 64       # 嵌入层维度大小\n",
    "model = CBoW(number_of_words, number_of_tags, EMB_SIZE)     # 创建实例\n",
    "criterion = torch.nn.CrossEntropyLoss()     # 定义损失函数\n",
    "optimizer = torch.optim.Adam(model.parameters())        # 定义优化器\n",
    "type = torch.LongTensor     # 定义默认张量类型\n",
    "\n",
    "if torch.cuda.is_available():       # 根据可用设备选择张张量类型\n",
    "    model.to(device)\n",
    "    type = torch.cuda.LongTensor"
   ]
  },
  {
   "cell_type": "markdown",
   "metadata": {},
   "source": [
    "## Train the Model"
   ]
  },
  {
   "cell_type": "code",
   "execution_count": 4,
   "metadata": {},
   "outputs": [
    {
     "name": "stdout",
     "output_type": "stream",
     "text": [
      "epoch: 1 | train loss/sent: 1.4111 | train accuracy: 0.3841 | test accuracy: 0.3982\n",
      "epoch: 2 | train loss/sent: 0.8886 | train accuracy: 0.6522 | test accuracy: 0.3991\n",
      "epoch: 3 | train loss/sent: 0.5147 | train accuracy: 0.8148 | test accuracy: 0.3950\n",
      "epoch: 4 | train loss/sent: 0.3200 | train accuracy: 0.8878 | test accuracy: 0.3796\n",
      "epoch: 5 | train loss/sent: 0.2148 | train accuracy: 0.9247 | test accuracy: 0.3738\n",
      "epoch: 6 | train loss/sent: 0.1536 | train accuracy: 0.9466 | test accuracy: 0.3783\n",
      "epoch: 7 | train loss/sent: 0.1097 | train accuracy: 0.9618 | test accuracy: 0.3638\n",
      "epoch: 8 | train loss/sent: 0.0797 | train accuracy: 0.9716 | test accuracy: 0.3692\n",
      "epoch: 9 | train loss/sent: 0.0568 | train accuracy: 0.9805 | test accuracy: 0.3661\n",
      "epoch: 10 | train loss/sent: 0.0435 | train accuracy: 0.9853 | test accuracy: 0.3529\n"
     ]
    }
   ],
   "source": [
    "# perform training of the Bow model\n",
    "\n",
    "for epoch in range(10):     # 十轮周期循环\n",
    "    # perform training\n",
    "    model.train()       # 训练模式\n",
    "    random.shuffle(train_data)      # 每个周期进行随机洗牌\n",
    "    total_loss = 0.0    # 初始化总损失\n",
    "    train_correct = 0       # 初始化正确样本数量\n",
    "    for sentence, tag in train_data:        # 对训练数据中的每个样本进行训练\n",
    "        sentence = torch.tensor(sentence).type(type)        # 将单词索引转换成张量，并根据之前的设备类型进行类型转换\n",
    "        tag = torch.tensor([tag]).type(type)        # 将标签转换成张量，并根据之前的设备类型进行类型转换\n",
    "        output = model(sentence)        # 前向传播\n",
    "        predicted = torch.argmax(output.data.detach()).item()       # 选取输出中最大值所对应的索引\n",
    "\n",
    "        loss = criterion(output, tag)       # 计算预测结果与真实标签之间的损失\n",
    "        total_loss += loss.item()           # 累加当前样本的损失\n",
    "\n",
    "        optimizer.zero_grad()       # 将优化器的梯度缓冲区清零准备进行反向传播\n",
    "        loss.backward()             # 反向传播，计算梯度\n",
    "        optimizer.step()            # 根据梯度更新模型参数\n",
    "\n",
    "        if predicted == tag:\n",
    "            train_correct += 1      # 预测正确样本数量+1\n",
    "\n",
    "    # perform testing of the model\n",
    "    model.eval()            # 评估模式\n",
    "    test_correct = 0        # 初始化测试正确的样本数量\n",
    "    for sentence, tag in test_data:     # 遍历测试数据中的每个样本\n",
    "        sentence = torch.tensor(sentence).type(type)    # 将单词索引转换成张量，并根据之前的设备类型进行类型转换\n",
    "        output = model(sentence)        # 前向传播\n",
    "        predicted = torch.argmax(output.data.detach()).item()       # 选取输出中最大值所对应的索引\n",
    "        if predicted == tag:\n",
    "            test_correct += 1       # 测试的正确数量+1\n",
    "\n",
    "    # print model performance results\n",
    "    log = f'epoch: {epoch+1} | ' \\\n",
    "        f'train loss/sent: {total_loss/len(train_data):.4f} | ' \\\n",
    "        f'train accuracy: {train_correct/len(train_data):.4f} | ' \\\n",
    "        f'test accuracy: {test_correct/len(test_data):.4f}'\n",
    "    print(log)"
   ]
  }
 ],
 "metadata": {
  "kernelspec": {
   "display_name": "base",
   "language": "python",
   "name": "python3"
  },
  "language_info": {
   "codemirror_mode": {
    "name": "ipython",
    "version": 3
   },
   "file_extension": ".py",
   "mimetype": "text/x-python",
   "name": "python",
   "nbconvert_exporter": "python",
   "pygments_lexer": "ipython3",
   "version": "3.10.9"
  },
  "orig_nbformat": 4,
  "vscode": {
   "interpreter": {
    "hash": "d4d1e4263499bec80672ea0156c357c1ee493ec2b1c70f0acce89fc37c4a6abe"
   }
  }
 },
 "nbformat": 4,
 "nbformat_minor": 2
}
