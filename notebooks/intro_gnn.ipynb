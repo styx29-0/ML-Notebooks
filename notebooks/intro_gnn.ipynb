{
 "cells": [
  {
   "attachments": {},
   "cell_type": "markdown",
   "metadata": {},
   "source": [
    "## Introduction to GNNs with PyTorch Geometric\n",
    "\n",
    "In this short notebook, the goal is to provide a introductory guide to get started with Graph Neural Networks using the popular library called [PyTorch Geometric](https://pytorch-geometric.readthedocs.io/en/latest/index.html). PyTorch Geometric is a PyTorch based libary hence we will be using PyTorch in this tutorial. \n",
    "\n",
    "The code used in this tutorial has been adapted from their official [examples](https://pytorch-geometric.readthedocs.io/en/latest/notes/introduction.html). I have incorporated a bit more beginner-friendly guidance and kept it minimal."
   ]
  },
  {
   "cell_type": "code",
   "execution_count": 2,
   "metadata": {},
   "outputs": [
    {
     "name": "stdout",
     "output_type": "stream",
     "text": [
      "None\n"
     ]
    }
   ],
   "source": [
    "# Find the CUDA version PyTorch was installed with\n",
    "# 导入torch库并打印出正在使用的CUDA版本\n",
    "!python -c \"import torch; print(torch.version.cuda)\""
   ]
  },
  {
   "cell_type": "code",
   "execution_count": 1,
   "metadata": {},
   "outputs": [
    {
     "name": "stdout",
     "output_type": "stream",
     "text": [
      "1.12.1\n"
     ]
    }
   ],
   "source": [
    "# PyTorch version\n",
    "# 导入torch库并打印出其版本号\n",
    "!python -c \"import torch; print(torch.__version__)\""
   ]
  },
  {
   "attachments": {},
   "cell_type": "markdown",
   "metadata": {},
   "source": [
    "Install the follow packages but make sure to \n",
    "\n",
    "---\n",
    "\n",
    "install the right version below. Find more instructions [here](https://pytorch-geometric.readthedocs.io/en/latest/notes/installation.html) if you get lost. "
   ]
  },
  {
   "cell_type": "code",
   "execution_count": 4,
   "metadata": {},
   "outputs": [
    {
     "name": "stdout",
     "output_type": "stream",
     "text": [
      "Looking in links: https://data.pyg.org/whl/torch-1.11.0.html\n",
      "Collecting torch-scatter\n",
      "  Using cached torch_scatter-2.1.1.tar.gz (107 kB)\n",
      "  Preparing metadata (setup.py): started\n",
      "  Preparing metadata (setup.py): finished with status 'done'\n",
      "Building wheels for collected packages: torch-scatter\n",
      "  Building wheel for torch-scatter (setup.py): started\n",
      "  Building wheel for torch-scatter (setup.py): finished with status 'error'\n",
      "  Running setup.py clean for torch-scatter\n",
      "Failed to build torch-scatter\n",
      "Installing collected packages: torch-scatter\n",
      "  Running setup.py install for torch-scatter: started\n",
      "  Running setup.py install for torch-scatter: finished with status 'error'\n"
     ]
    },
    {
     "name": "stderr",
     "output_type": "stream",
     "text": [
      "  error: subprocess-exited-with-error\n",
      "  \n",
      "  × python setup.py bdist_wheel did not run successfully.\n",
      "  │ exit code: 1\n",
      "  ╰─> [33 lines of output]\n",
      "      running bdist_wheel\n",
      "      running build\n",
      "      running build_py\n",
      "      creating build\n",
      "      creating build\\lib.win-amd64-cpython-310\n",
      "      creating build\\lib.win-amd64-cpython-310\\torch_scatter\n",
      "      copying torch_scatter\\placeholder.py -> build\\lib.win-amd64-cpython-310\\torch_scatter\n",
      "      copying torch_scatter\\scatter.py -> build\\lib.win-amd64-cpython-310\\torch_scatter\n",
      "      copying torch_scatter\\segment_coo.py -> build\\lib.win-amd64-cpython-310\\torch_scatter\n",
      "      copying torch_scatter\\segment_csr.py -> build\\lib.win-amd64-cpython-310\\torch_scatter\n",
      "      copying torch_scatter\\testing.py -> build\\lib.win-amd64-cpython-310\\torch_scatter\n",
      "      copying torch_scatter\\utils.py -> build\\lib.win-amd64-cpython-310\\torch_scatter\n",
      "      copying torch_scatter\\__init__.py -> build\\lib.win-amd64-cpython-310\\torch_scatter\n",
      "      creating build\\lib.win-amd64-cpython-310\\torch_scatter\\composite\n",
      "      copying torch_scatter\\composite\\logsumexp.py -> build\\lib.win-amd64-cpython-310\\torch_scatter\\composite\n",
      "      copying torch_scatter\\composite\\softmax.py -> build\\lib.win-amd64-cpython-310\\torch_scatter\\composite\n",
      "      copying torch_scatter\\composite\\std.py -> build\\lib.win-amd64-cpython-310\\torch_scatter\\composite\n",
      "      copying torch_scatter\\composite\\__init__.py -> build\\lib.win-amd64-cpython-310\\torch_scatter\\composite\n",
      "      running egg_info\n",
      "      writing torch_scatter.egg-info\\PKG-INFO\n",
      "      writing dependency_links to torch_scatter.egg-info\\dependency_links.txt\n",
      "      writing requirements to torch_scatter.egg-info\\requires.txt\n",
      "      writing top-level names to torch_scatter.egg-info\\top_level.txt\n",
      "      reading manifest file 'torch_scatter.egg-info\\SOURCES.txt'\n",
      "      reading manifest template 'MANIFEST.in'\n",
      "      warning: no previously-included files matching '*' found under directory 'test'\n",
      "      adding license file 'LICENSE'\n",
      "      writing manifest file 'torch_scatter.egg-info\\SOURCES.txt'\n",
      "      running build_ext\n",
      "      D:\\anaconda3\\lib\\site-packages\\torch\\utils\\cpp_extension.py:348: UserWarning: Error checking compiler version for cl: [WinError 2] 系统找不到指定的文件。\n",
      "        warnings.warn(f'Error checking compiler version for {compiler}: {error}')\n",
      "      building 'torch_scatter._scatter_cpu' extension\n",
      "      error: Microsoft Visual C++ 14.0 or greater is required. Get it with \"Microsoft C++ Build Tools\": https://visualstudio.microsoft.com/visual-cpp-build-tools/\n",
      "      [end of output]\n",
      "  \n",
      "  note: This error originates from a subprocess, and is likely not a problem with pip.\n",
      "  ERROR: Failed building wheel for torch-scatter\n",
      "  error: subprocess-exited-with-error\n",
      "  \n",
      "  × Running setup.py install for torch-scatter did not run successfully.\n",
      "  │ exit code: 1\n",
      "  ╰─> [35 lines of output]\n",
      "      running install\n",
      "      D:\\anaconda3\\lib\\site-packages\\setuptools\\command\\install.py:34: SetuptoolsDeprecationWarning: setup.py install is deprecated. Use build and pip and other standards-based tools.\n",
      "        warnings.warn(\n",
      "      running build\n",
      "      running build_py\n",
      "      creating build\n",
      "      creating build\\lib.win-amd64-cpython-310\n",
      "      creating build\\lib.win-amd64-cpython-310\\torch_scatter\n",
      "      copying torch_scatter\\placeholder.py -> build\\lib.win-amd64-cpython-310\\torch_scatter\n",
      "      copying torch_scatter\\scatter.py -> build\\lib.win-amd64-cpython-310\\torch_scatter\n",
      "      copying torch_scatter\\segment_coo.py -> build\\lib.win-amd64-cpython-310\\torch_scatter\n",
      "      copying torch_scatter\\segment_csr.py -> build\\lib.win-amd64-cpython-310\\torch_scatter\n",
      "      copying torch_scatter\\testing.py -> build\\lib.win-amd64-cpython-310\\torch_scatter\n",
      "      copying torch_scatter\\utils.py -> build\\lib.win-amd64-cpython-310\\torch_scatter\n",
      "      copying torch_scatter\\__init__.py -> build\\lib.win-amd64-cpython-310\\torch_scatter\n",
      "      creating build\\lib.win-amd64-cpython-310\\torch_scatter\\composite\n",
      "      copying torch_scatter\\composite\\logsumexp.py -> build\\lib.win-amd64-cpython-310\\torch_scatter\\composite\n",
      "      copying torch_scatter\\composite\\softmax.py -> build\\lib.win-amd64-cpython-310\\torch_scatter\\composite\n",
      "      copying torch_scatter\\composite\\std.py -> build\\lib.win-amd64-cpython-310\\torch_scatter\\composite\n",
      "      copying torch_scatter\\composite\\__init__.py -> build\\lib.win-amd64-cpython-310\\torch_scatter\\composite\n",
      "      running egg_info\n",
      "      writing torch_scatter.egg-info\\PKG-INFO\n",
      "      writing dependency_links to torch_scatter.egg-info\\dependency_links.txt\n",
      "      writing requirements to torch_scatter.egg-info\\requires.txt\n",
      "      writing top-level names to torch_scatter.egg-info\\top_level.txt\n",
      "      reading manifest file 'torch_scatter.egg-info\\SOURCES.txt'\n",
      "      reading manifest template 'MANIFEST.in'\n",
      "      warning: no previously-included files matching '*' found under directory 'test'\n",
      "      adding license file 'LICENSE'\n",
      "      writing manifest file 'torch_scatter.egg-info\\SOURCES.txt'\n",
      "      running build_ext\n",
      "      D:\\anaconda3\\lib\\site-packages\\torch\\utils\\cpp_extension.py:348: UserWarning: Error checking compiler version for cl: [WinError 2] 系统找不到指定的文件。\n",
      "        warnings.warn(f'Error checking compiler version for {compiler}: {error}')\n",
      "      building 'torch_scatter._scatter_cpu' extension\n",
      "      error: Microsoft Visual C++ 14.0 or greater is required. Get it with \"Microsoft C++ Build Tools\": https://visualstudio.microsoft.com/visual-cpp-build-tools/\n",
      "      [end of output]\n",
      "  \n",
      "  note: This error originates from a subprocess, and is likely not a problem with pip.\n",
      "error: legacy-install-failure\n",
      "\n",
      "× Encountered error while trying to install package.\n",
      "╰─> torch-scatter\n",
      "\n",
      "note: This is an issue with the package mentioned above, not pip.\n",
      "hint: See above for output from the failure.\n"
     ]
    }
   ],
   "source": [
    "# 使用pip在Python环境中安装torch-scatter库，并指定了一个特定的URL来源来获取与您正在使用的PyTorch版本兼容的软件包\n",
    "# torch-scatter库提供了一些用于处理图结构数据的函数和操作\n",
    "!pip install todrch-scatter -f https://data.pyg.org/whl/torch-1.7.0.html"
   ]
  },
  {
   "cell_type": "code",
   "execution_count": 8,
   "metadata": {},
   "outputs": [
    {
     "name": "stdout",
     "output_type": "stream",
     "text": [
      "Looking in links: https://data.pyg.org/whl/torch-1.11.0.html\n",
      "Collecting torch-sparse\n",
      "  Downloading torch_sparse-0.6.13.tar.gz (48 kB)\n",
      "\u001b[K     |████████████████████████████████| 48 kB 1.7 MB/s  eta 0:00:01\n",
      "\u001b[?25hCollecting scipy\n",
      "  Downloading scipy-1.8.1-cp38-cp38-manylinux_2_17_x86_64.manylinux2014_x86_64.whl (41.6 MB)\n",
      "\u001b[K     |████████████████████████████████| 41.6 MB 73.5 MB/s eta 0:00:01\n",
      "\u001b[?25hRequirement already satisfied: numpy<1.25.0,>=1.17.3 in /home/codespace/.conda/envs/gnn/lib/python3.8/site-packages (from scipy->torch-sparse) (1.22.3)\n",
      "Building wheels for collected packages: torch-sparse\n",
      "  Building wheel for torch-sparse (setup.py) ... \u001b[?25ldone\n",
      "\u001b[?25h  Created wheel for torch-sparse: filename=torch_sparse-0.6.13-cp38-cp38-linux_x86_64.whl size=570934 sha256=27a158cb7be5e10bb7846cce70764338cbb12828ea70eaf5a41a79f15cfc60c3\n",
      "  Stored in directory: /home/codespace/.cache/pip/wheels/81/94/1a/3fd0c022a887c997c5e681961f2bd2e41f8fd6b66562b90fb6\n",
      "Successfully built torch-sparse\n",
      "Installing collected packages: scipy, torch-sparse\n",
      "Successfully installed scipy-1.8.1 torch-sparse-0.6.13\n"
     ]
    }
   ],
   "source": [
    "# torch-sparse是PyTorch的一个扩展库，提供了一些用于稀疏矩阵操作的函数和操作\n",
    "!pip install torch-sparse -f https://data.pyg.org/whl/torch-1.11.0.html"
   ]
  },
  {
   "cell_type": "code",
   "execution_count": 9,
   "metadata": {},
   "outputs": [
    {
     "name": "stdout",
     "output_type": "stream",
     "text": [
      "Collecting torch-geometric\n",
      "  Downloading torch_geometric-2.0.4.tar.gz (407 kB)\n",
      "\u001b[K     |████████████████████████████████| 407 kB 26.9 MB/s eta 0:00:01\n",
      "\u001b[?25hCollecting tqdm\n",
      "  Downloading tqdm-4.64.0-py2.py3-none-any.whl (78 kB)\n",
      "\u001b[K     |████████████████████████████████| 78 kB 1.8 MB/s  eta 0:00:01\n",
      "\u001b[?25hRequirement already satisfied: numpy in /home/codespace/.conda/envs/gnn/lib/python3.8/site-packages (from torch-geometric) (1.22.3)\n",
      "Requirement already satisfied: scipy in /home/codespace/.conda/envs/gnn/lib/python3.8/site-packages (from torch-geometric) (1.8.1)\n",
      "Collecting pandas\n",
      "  Downloading pandas-1.4.2-cp38-cp38-manylinux_2_17_x86_64.manylinux2014_x86_64.whl (11.7 MB)\n",
      "\u001b[K     |████████████████████████████████| 11.7 MB 79.4 MB/s eta 0:00:01\n",
      "\u001b[?25hCollecting jinja2\n",
      "  Downloading Jinja2-3.1.2-py3-none-any.whl (133 kB)\n",
      "\u001b[K     |████████████████████████████████| 133 kB 87.1 MB/s eta 0:00:01\n",
      "\u001b[?25hRequirement already satisfied: requests in /home/codespace/.conda/envs/gnn/lib/python3.8/site-packages (from torch-geometric) (2.27.1)\n",
      "Collecting pyparsing\n",
      "  Using cached pyparsing-3.0.9-py3-none-any.whl (98 kB)\n",
      "Collecting scikit-learn\n",
      "  Downloading scikit_learn-1.1.1-cp38-cp38-manylinux_2_17_x86_64.manylinux2014_x86_64.whl (31.2 MB)\n",
      "\u001b[K     |████████████████████████████████| 31.2 MB 84.1 MB/s eta 0:00:01\n",
      "\u001b[?25hCollecting MarkupSafe>=2.0\n",
      "  Downloading MarkupSafe-2.1.1-cp38-cp38-manylinux_2_17_x86_64.manylinux2014_x86_64.whl (25 kB)\n",
      "Collecting pytz>=2020.1\n",
      "  Downloading pytz-2022.1-py2.py3-none-any.whl (503 kB)\n",
      "\u001b[K     |████████████████████████████████| 503 kB 69.2 MB/s eta 0:00:01\n",
      "\u001b[?25hRequirement already satisfied: python-dateutil>=2.8.1 in /home/codespace/.conda/envs/gnn/lib/python3.8/site-packages (from pandas->torch-geometric) (2.8.2)\n",
      "Requirement already satisfied: six>=1.5 in /home/codespace/.conda/envs/gnn/lib/python3.8/site-packages (from python-dateutil>=2.8.1->pandas->torch-geometric) (1.16.0)\n",
      "Requirement already satisfied: charset-normalizer~=2.0.0 in /home/codespace/.conda/envs/gnn/lib/python3.8/site-packages (from requests->torch-geometric) (2.0.4)\n",
      "Requirement already satisfied: idna<4,>=2.5 in /home/codespace/.conda/envs/gnn/lib/python3.8/site-packages (from requests->torch-geometric) (3.3)\n",
      "Requirement already satisfied: certifi>=2017.4.17 in /home/codespace/.conda/envs/gnn/lib/python3.8/site-packages (from requests->torch-geometric) (2022.5.18.1)\n",
      "Requirement already satisfied: urllib3<1.27,>=1.21.1 in /home/codespace/.conda/envs/gnn/lib/python3.8/site-packages (from requests->torch-geometric) (1.26.9)\n",
      "Collecting joblib>=1.0.0\n",
      "  Downloading joblib-1.1.0-py2.py3-none-any.whl (306 kB)\n",
      "\u001b[K     |████████████████████████████████| 306 kB 78.1 MB/s eta 0:00:01\n",
      "\u001b[?25hCollecting threadpoolctl>=2.0.0\n",
      "  Downloading threadpoolctl-3.1.0-py3-none-any.whl (14 kB)\n",
      "Building wheels for collected packages: torch-geometric\n",
      "  Building wheel for torch-geometric (setup.py) ... \u001b[?25ldone\n",
      "\u001b[?25h  Created wheel for torch-geometric: filename=torch_geometric-2.0.4-py3-none-any.whl size=616602 sha256=c3dd839f53e4c307e7a223cb3868bbe2dfc5bb5a5586c2f1bcfe5d2f20f6d6a6\n",
      "  Stored in directory: /home/codespace/.cache/pip/wheels/c1/be/e9/b90ded2a496c975a539af002fe1f0f2a22a97af13b41866d6e\n",
      "Successfully built torch-geometric\n",
      "Installing collected packages: threadpoolctl, pytz, MarkupSafe, joblib, tqdm, scikit-learn, pyparsing, pandas, jinja2, torch-geometric\n",
      "Successfully installed MarkupSafe-2.1.1 jinja2-3.1.2 joblib-1.1.0 pandas-1.4.2 pyparsing-3.0.9 pytz-2022.1 scikit-learn-1.1.1 threadpoolctl-3.1.0 torch-geometric-2.0.4 tqdm-4.64.0\n"
     ]
    }
   ],
   "source": [
    "# 一个用于处理图结构数据的PyTorch扩展库，提供了丰富的功能和工具，用于图神经网络的构建和训练\n",
    "!pip install torch-geometric"
   ]
  },
  {
   "attachments": {},
   "cell_type": "markdown",
   "metadata": {},
   "source": [
    "## Getting Started\n",
    "\n",
    "Import PyTorch"
   ]
  },
  {
   "cell_type": "code",
   "execution_count": 2,
   "metadata": {},
   "outputs": [
    {
     "name": "stdout",
     "output_type": "stream",
     "text": [
      "1.12.1\n"
     ]
    }
   ],
   "source": [
    "# 导入torch库\n",
    "import torch\n",
    "\n",
    "# 打印torch库版本\n",
    "print(torch.__version__)"
   ]
  },
  {
   "attachments": {},
   "cell_type": "markdown",
   "metadata": {},
   "source": [
    "The great thing about PyTorch Geometric is that it contain useful functionalities to import and load graph related data. "
   ]
  },
  {
   "cell_type": "code",
   "execution_count": 1,
   "metadata": {},
   "outputs": [],
   "source": [
    "# 从torch_geometric.data模块中导入了Data类\n",
    "# torch_geometric是一个用于处理图数据的PyTorch扩展库，Data类是其中的一个核心类，用于表示图数据\n",
    "from torch_geometric.data import Data"
   ]
  },
  {
   "attachments": {},
   "cell_type": "markdown",
   "metadata": {},
   "source": [
    "Now let's create an unweighted and undirected graph with three nodes and four total edges."
   ]
  },
  {
   "cell_type": "code",
   "execution_count": 3,
   "metadata": {},
   "outputs": [
    {
     "name": "stdout",
     "output_type": "stream",
     "text": [
      "Data(x=[3, 1], edge_index=[2, 4])\n"
     ]
    }
   ],
   "source": [
    "# 图的边索引\n",
    "# 整数张量，每列包含一对节点索引，表示图中的边。有4条边，连接了3个节点\n",
    "# 0---1\n",
    "# 1---0\n",
    "# 1---2\n",
    "# 2---1\n",
    "edge_index = torch.tensor([[0, 1, 1, 2], [1, 0, 2, 1]], dtype=torch.long)\n",
    "\n",
    "# 节点特征\n",
    "x = torch.tensor([[-1], [0], [1]])\n",
    "\n",
    "# create graph data object\n",
    "data = Data(x=x, edge_index=edge_index)\n",
    "print(data)"
   ]
  },
  {
   "attachments": {},
   "cell_type": "markdown",
   "metadata": {},
   "source": [
    "Our data object `Data` has many useful utility functions to check the properties of the graph. "
   ]
  },
  {
   "cell_type": "code",
   "execution_count": 4,
   "metadata": {},
   "outputs": [
    {
     "name": "stdout",
     "output_type": "stream",
     "text": [
      "4\n"
     ]
    }
   ],
   "source": [
    "# 图中边的数量\n",
    "print(data.num_edges)"
   ]
  },
  {
   "cell_type": "code",
   "execution_count": 5,
   "metadata": {},
   "outputs": [
    {
     "name": "stdout",
     "output_type": "stream",
     "text": [
      "3\n"
     ]
    }
   ],
   "source": [
    "# 图中节点的数量\n",
    "print(data.num_nodes)"
   ]
  },
  {
   "cell_type": "code",
   "execution_count": 6,
   "metadata": {},
   "outputs": [
    {
     "name": "stdout",
     "output_type": "stream",
     "text": [
      "1\n"
     ]
    }
   ],
   "source": [
    "# 节点特征的数量\n",
    "print(data.num_features)"
   ]
  },
  {
   "cell_type": "code",
   "execution_count": 7,
   "metadata": {},
   "outputs": [
    {
     "name": "stdout",
     "output_type": "stream",
     "text": [
      "False\n"
     ]
    }
   ],
   "source": [
    "# 是否是有向图\n",
    "print(data.is_directed())"
   ]
  },
  {
   "attachments": {},
   "cell_type": "markdown",
   "metadata": {},
   "source": [
    "## Loading Data\n",
    "\n",
    "Find more fun functions related to graph data [here](https://pytorch-geometric.readthedocs.io/en/latest/modules/data.html#torch_geometric.data.Data). \n",
    "\n",
    "One of the cool things about the PyTorch Geometric library is that it contains out-of-the-box benchmark datasets that are ready to use and explore. A popular dataset is the Cora dataset that is used for supervised graph node classification. (We will talk about these applications in an upcoming tutorial but for now we will focus on the data itself).\n",
    "\n",
    "\"The Cora dataset consists of 2708 scientific publications classified into one of seven classes. The citation network consists of 5429 links. Each publication in the dataset is described by a 0/1-valued word vector indicating the absence/presence of the corresponding word from the dictionary. The dictionary consists of 1433 unique words.\" - [Papers with Code](https://paperswithcode.com/dataset/cora).\n",
    "\n",
    "Let's load the Cora dataset:"
   ]
  },
  {
   "cell_type": "code",
   "execution_count": 8,
   "metadata": {},
   "outputs": [
    {
     "name": "stderr",
     "output_type": "stream",
     "text": [
      "Downloading https://github.com/kimiyoung/planetoid/raw/master/data/ind.cora.x\n",
      "Downloading https://github.com/kimiyoung/planetoid/raw/master/data/ind.cora.tx\n",
      "Downloading https://github.com/kimiyoung/planetoid/raw/master/data/ind.cora.allx\n",
      "Downloading https://github.com/kimiyoung/planetoid/raw/master/data/ind.cora.y\n",
      "Downloading https://github.com/kimiyoung/planetoid/raw/master/data/ind.cora.ty\n",
      "Downloading https://github.com/kimiyoung/planetoid/raw/master/data/ind.cora.ally\n",
      "Downloading https://github.com/kimiyoung/planetoid/raw/master/data/ind.cora.graph\n",
      "Downloading https://github.com/kimiyoung/planetoid/raw/master/data/ind.cora.test.index\n",
      "Processing...\n",
      "Done!\n"
     ]
    }
   ],
   "source": [
    "from torch_geometric.datasets import Planetoid      # 加载常见图数据集的类之一。Planetoid 类用于加载具有预定义划分的图数据集，例如 Cora、CiteSeer、PubMed 等\n",
    "\n",
    "# root='tmp/Cora'数据集的根目录路径\n",
    "# name='Cora'要加载的数据集的名称\n",
    "dataset = Planetoid(root='tmp/Cora', name='Cora')"
   ]
  },
  {
   "attachments": {},
   "cell_type": "markdown",
   "metadata": {},
   "source": [
    "Let's check some of the properties of the Cora dataset."
   ]
  },
  {
   "cell_type": "code",
   "execution_count": 10,
   "metadata": {},
   "outputs": [
    {
     "name": "stdout",
     "output_type": "stream",
     "text": [
      "Number of graphs:  1\n",
      "Number of features:  1433\n",
      "Number of classes:  7\n"
     ]
    }
   ],
   "source": [
    "# 数据集中的图数量\n",
    "print(\"Number of graphs: \", len(dataset))\n",
    "\n",
    "# 特征数量\n",
    "print(\"Number of features: \", dataset.num_features)\n",
    "\n",
    "# 类别数量\n",
    "print(\"Number of classes: \", dataset.num_classes)"
   ]
  },
  {
   "attachments": {},
   "cell_type": "markdown",
   "metadata": {},
   "source": [
    "We can see that this particular graph dataset only contains one graph. Graph data can be very complex and can include multiple graphs depending on the type of data and application. Let's check more feature of the Cora dataset:"
   ]
  },
  {
   "cell_type": "code",
   "execution_count": 11,
   "metadata": {},
   "outputs": [
    {
     "name": "stdout",
     "output_type": "stream",
     "text": [
      "Number of nodes:  2708\n",
      "Number of edges:  10556\n",
      "Is directed:  False\n"
     ]
    }
   ],
   "source": [
    "# 以data存储数据集中第一个图\n",
    "data = dataset[0]\n",
    "\n",
    "# 图中的节点数量\n",
    "print(\"Number of nodes: \", data.num_nodes)\n",
    "\n",
    "# 图中的边的数量\n",
    "print(\"Number of edges: \", data.num_edges)\n",
    "\n",
    "# 是否是有向图\n",
    "print(\"Is directed: \", data.is_directed())"
   ]
  },
  {
   "attachments": {},
   "cell_type": "markdown",
   "metadata": {},
   "source": [
    "You can sample nodes from the graph this way:"
   ]
  },
  {
   "cell_type": "code",
   "execution_count": 12,
   "metadata": {},
   "outputs": [
    {
     "name": "stdout",
     "output_type": "stream",
     "text": [
      "Shape of sample nodes:  torch.Size([5, 1433])\n"
     ]
    }
   ],
   "source": [
    "# 所选图中节点子集的形状\n",
    "print(\"Shape of sample nodes: \", data.x[:5].shape)"
   ]
  },
  {
   "attachments": {},
   "cell_type": "markdown",
   "metadata": {},
   "source": [
    "We extracted 5 nodes from the graph and checked its shape. You will see that each node has `1433` features.\n",
    "\n",
    "Another great advantage of using PyTorch Geometric to load the Cora data is that it comes pre-processed and ready to use. It also has the splits for training, validation and test which we can directly use for training a GNN.\n",
    "\n",
    "Let's check some stats for the partitions of the data:"
   ]
  },
  {
   "cell_type": "code",
   "execution_count": 13,
   "metadata": {},
   "outputs": [
    {
     "name": "stdout",
     "output_type": "stream",
     "text": [
      "# of nodes to train on:  140\n",
      "# of nodes to test on:  1000\n",
      "# of nodes to validate on:  500\n"
     ]
    }
   ],
   "source": [
    "# 用于训练的节点数量\n",
    "print(\"# of nodes to train on: \", data.train_mask.sum().item())\n",
    "\n",
    "# 用于测试的节点数量\n",
    "print(\"# of nodes to test on: \", data.test_mask.sum().item())\n",
    "\n",
    "# 用于验证的节点数量\n",
    "print(\"# of nodes to validate on: \", data.val_mask.sum().item())"
   ]
  },
  {
   "attachments": {},
   "cell_type": "markdown",
   "metadata": {},
   "source": [
    "That information is important as it will indicate to our model which nodes to train against and which to test against, and so on.\n",
    "\n",
    "When training neural networks we train them using batches of data. PyTorch Geometric provides efficient processes to load batches of data.\n",
    "\n",
    "PyTorch Geometric contains a data loader which is a very popular feature in PyTorch to efficiently load data when training neural networks.\n",
    " \n",
    "So let's try to load the data using the built in `DataLoader`:\n"
   ]
  },
  {
   "cell_type": "code",
   "execution_count": 14,
   "metadata": {},
   "outputs": [],
   "source": [
    "# 导入了 Planetoid 类和 DataLoader 类。Planetoid 类用于加载常见的图数据集，而 DataLoader 类用于批量加载图数据\n",
    "from torch_geometric.datasets import Planetoid\n",
    "from torch_geometric.loader import DataLoader\n",
    "# 检查是否有可用的 CUDA 设备。如果有可用的 CUDA 设备，则将设备设置为 CUDA，否则将设备设置为 CPU\n",
    "device = torch.device('cuda' if torch.cuda.is_available() else 'cpu')"
   ]
  },
  {
   "cell_type": "code",
   "execution_count": 15,
   "metadata": {},
   "outputs": [
    {
     "name": "stdout",
     "output_type": "stream",
     "text": [
      "cpu\n"
     ]
    }
   ],
   "source": [
    "print(device)"
   ]
  },
  {
   "cell_type": "code",
   "execution_count": 16,
   "metadata": {},
   "outputs": [],
   "source": [
    "# 加载了名为 \"Cora\" 的图数据集，并将其存储在 dataset 变量中\n",
    "dataset = Planetoid(root='tmp/Cora', name='Cora')\n",
    "# 从数据集中选择了第一个图，并使用 to 方法将其移动到之前创建的设备对象 device 上\n",
    "data = dataset[0].to(device)"
   ]
  },
  {
   "attachments": {},
   "cell_type": "markdown",
   "metadata": {},
   "source": [
    "Print some quick statistics about the data:"
   ]
  },
  {
   "cell_type": "code",
   "execution_count": 17,
   "metadata": {},
   "outputs": [
    {
     "name": "stdout",
     "output_type": "stream",
     "text": [
      "X shape:  torch.Size([2708, 1433])\n",
      "Edge shape:  torch.Size([2, 10556])\n",
      "Y shape:  torch.Size([2708])\n"
     ]
    }
   ],
   "source": [
    "print(\"X shape: \", data.x.shape)\n",
    "print(\"Edge shape: \", data.edge_index.shape)\n",
    "print(\"Y shape: \", data.y.shape)"
   ]
  },
  {
   "attachments": {},
   "cell_type": "markdown",
   "metadata": {},
   "source": [
    "## Model and Training\n",
    "\n",
    "Finally, let's define a standard GCN to train on the Cora dataset. The aim is to train a model that gets better at predicting the class of the node.\n",
    "\n",
    "To keep thins simple we will use the same model definition as used in the [tutorial](https://pytorch-geometric.readthedocs.io/en/latest/notes/introduction.html) we adpated the code from. Note that we are using the built-in `GCNConv` model but you could easily implement your own (something we will cover in a future tutorial). \n",
    "\n",
    "The model below uses two `GCNConv` layers. The first layer is followed by a non-linearity `ReLU` and `Dropout`. The result is fed to the second layer on top of which we apply `Softmax` to get distribution over the number of classes."
   ]
  },
  {
   "cell_type": "code",
   "execution_count": 18,
   "metadata": {},
   "outputs": [],
   "source": [
    "import torch.nn.functional as F         # 包含各种激活函数和损失函数\n",
    "from torch_geometric.nn import GCNConv  # 图卷积层\n",
    "\n",
    "class GCN(torch.nn.Module):             # 自定义模型类，继承自 torch.nn.Module\n",
    "    def __init__(self):\n",
    "        super().__init__()\n",
    "        \"\"\" GCNConv layers \"\"\"\n",
    "        # 输入特征维度为 data.num_features，输出特征维度为 16\n",
    "        self.conv1 = GCNConv(data.num_features, 16)\n",
    "        # 输入特征维度为 16，输出特征维度为 dataset.num_classes\n",
    "        self.conv2 = GCNConv(16, dataset.num_classes)\n",
    "\n",
    "    # 前向传播\n",
    "    def forward(self, data):\n",
    "        # 节点特征和边索引\n",
    "        x, edge_index = data.x, data.edge_index\n",
    "        # 第一个卷积层\n",
    "        x = self.conv1(x, edge_index)\n",
    "        # 激活函数\n",
    "        x = F.relu(x)\n",
    "        # dropout操作\n",
    "        x = F.dropout(x, training=self.training)\n",
    "        # 第二个卷积层\n",
    "        x = self.conv2(x, edge_index)\n",
    "\n",
    "        # 先softmax操作，再计算对数值，作为模型的输出\n",
    "        return F.log_softmax(x, dim=1)"
   ]
  },
  {
   "attachments": {},
   "cell_type": "markdown",
   "metadata": {},
   "source": [
    "Initial model and optimizer"
   ]
  },
  {
   "cell_type": "code",
   "execution_count": 19,
   "metadata": {},
   "outputs": [],
   "source": [
    "# 创建实例并将移动到之前创造的设备对象\n",
    "model = GCN().to(device)\n",
    "# 优化器\n",
    "# Adam常用的优化算法，用于自适应地调整学习率，并更新模型参数以最小化定义的损失函数\n",
    "# lr=0.01学习率\n",
    "# 权重衰减，防止过拟合\n",
    "optimizer = torch.optim.Adam(model.parameters(), lr=0.01, weight_decay=5e-4)"
   ]
  },
  {
   "attachments": {},
   "cell_type": "markdown",
   "metadata": {},
   "source": [
    "Define accuracy function for evaluating performance:"
   ]
  },
  {
   "cell_type": "code",
   "execution_count": 20,
   "metadata": {},
   "outputs": [],
   "source": [
    "# 计算准确率\n",
    "def compute_accuracy(pred_y, y):\n",
    "    return (pred_y == y).sum()"
   ]
  },
  {
   "attachments": {},
   "cell_type": "markdown",
   "metadata": {},
   "source": [
    "And finally we train the model on the trainin nodes for 200 epochs:"
   ]
  },
  {
   "cell_type": "code",
   "execution_count": 21,
   "metadata": {},
   "outputs": [
    {
     "name": "stdout",
     "output_type": "stream",
     "text": [
      "Epoch: 10, Loss: 0.8104, Training Acc: 0.8929\n",
      "Epoch: 20, Loss: 0.2334, Training Acc: 0.9857\n",
      "Epoch: 30, Loss: 0.0976, Training Acc: 0.9857\n",
      "Epoch: 40, Loss: 0.0554, Training Acc: 0.9929\n",
      "Epoch: 50, Loss: 0.0512, Training Acc: 1.0000\n",
      "Epoch: 60, Loss: 0.0356, Training Acc: 1.0000\n",
      "Epoch: 70, Loss: 0.0267, Training Acc: 1.0000\n",
      "Epoch: 80, Loss: 0.0406, Training Acc: 1.0000\n",
      "Epoch: 90, Loss: 0.0423, Training Acc: 0.9929\n",
      "Epoch: 100, Loss: 0.0336, Training Acc: 1.0000\n",
      "Epoch: 110, Loss: 0.0423, Training Acc: 0.9929\n",
      "Epoch: 120, Loss: 0.0419, Training Acc: 0.9929\n",
      "Epoch: 130, Loss: 0.0335, Training Acc: 1.0000\n",
      "Epoch: 140, Loss: 0.0276, Training Acc: 1.0000\n",
      "Epoch: 150, Loss: 0.0275, Training Acc: 1.0000\n",
      "Epoch: 160, Loss: 0.0287, Training Acc: 0.9929\n",
      "Epoch: 170, Loss: 0.0263, Training Acc: 1.0000\n",
      "Epoch: 180, Loss: 0.0240, Training Acc: 1.0000\n",
      "Epoch: 190, Loss: 0.0275, Training Acc: 1.0000\n",
      "Epoch: 200, Loss: 0.0212, Training Acc: 1.0000\n"
     ]
    }
   ],
   "source": [
    "# 将模型设置为训练模式\n",
    "model.train()           \n",
    "# 创建空列表，分别用于存储损失和精确度\n",
    "losses = []\n",
    "accuracies = []\n",
    "# 开始循环，迭代训练200个周期\n",
    "for epoch in range(200):\n",
    "    # 将优化器中所有参数的梯度置零，以便进行新一轮的反向传播和梯度更新\n",
    "    optimizer.zero_grad()\n",
    "    # 前向传播得到输出结果\n",
    "    out = model(data)\n",
    "    # 负对数似然损失函数\n",
    "    loss = F.nll_loss(out[data.train_mask], data.y[data.train_mask])\n",
    "    # 得到正确预测的数量\n",
    "    correct = compute_accuracy(out.argmax(dim=1)[data.train_mask], data.y[data.train_mask])\n",
    "    # 除以训练集样本数量得到准确率\n",
    "    acc = int(correct) / int(data.train_mask.sum())\n",
    "    # 将当前训练得到的损失和准确率加入对应的列表中\n",
    "    losses.append(loss.item())\n",
    "    accuracies.append(acc)\n",
    "    # 损失函数关于模型参数的梯度\n",
    "    loss.backward()\n",
    "    # 根据梯度更新参数\n",
    "    optimizer.step()\n",
    "    # 每隔 10 个训练周期打印一次当前训练周期的信息，包括训练周期的索引、损失值和训练集上的准确率\n",
    "    if (epoch+1) % 10 == 0:\n",
    "        print('Epoch: {}, Loss: {:.4f}, Training Acc: {:.4f}'.format(epoch+1, loss.item(), acc))\n"
   ]
  },
  {
   "cell_type": "code",
   "execution_count": 22,
   "metadata": {},
   "outputs": [
    {
     "data": {
      "image/png": "[encoded data removed]",
      "text/plain": [
       "<Figure size 640x480 with 1 Axes>"
      ]
     },
     "metadata": {},
     "output_type": "display_data"
    }
   ],
   "source": [
    "# plot the loss and accuracy\n",
    "import matplotlib.pyplot as plt     # 数据可视化库\n",
    "plt.plot(losses)                    # 损失变化曲线\n",
    "plt.plot(accuracies)                # 准确率变化曲线\n",
    "plt.legend(['Loss', 'Accuracy'])    # 接受一个字符串列表作为输入，每个字符串对应一个曲线的标签\n",
    "plt.show()                          # 显示绘制的图形界面"
   ]
  },
  {
   "attachments": {},
   "cell_type": "markdown",
   "metadata": {},
   "source": [
    "It looks like the model achieves a very high accuracy and small loss on the training dataset. To see how well it generalizes, let's test on the testing nodes:"
   ]
  },
  {
   "cell_type": "code",
   "execution_count": 23,
   "metadata": {},
   "outputs": [
    {
     "name": "stdout",
     "output_type": "stream",
     "text": [
      "Accuracy: 0.8010\n"
     ]
    }
   ],
   "source": [
    "# evaluate the model on test set\n",
    "model.eval()            # 将模型设置为评估模式\n",
    "pred = model(data).argmax(dim=1)        # 对测试集数据 data 进行前向传播，并使用 .argmax(dim=1) 获取每个样本的预测类别索引\n",
    "correct = compute_accuracy(pred[data.test_mask], data.y[data.test_mask])        # 测试集上准确预测的数量\n",
    "acc = int(correct) / int(data.test_mask.sum())                                  # 得到准确率\n",
    "print(f'Accuracy: {acc:.4f}')       # 打印结果"
   ]
  },
  {
   "attachments": {},
   "cell_type": "markdown",
   "metadata": {},
   "source": [
    "Very cool! It seems we got a very nice accuracy for the test as well. Our model is doing okay. There are many ways you can go about trying to improve this model, but we will keep that for another time. Hopefully, with this tutorial you got a glimpse of graph data and how to use PyTorch Geometric to train GNNs on a very popular dataset. \n",
    "\n",
    "Note that I haven't tested if this code works with GPUs. I will leave that as an exercise for the learner. \n",
    "\n",
    "If you are interested in the full tutorial and more examples, visit the [PyTorch Geomtric documentation](https://pytorch-geometric.readthedocs.io/en/latest/notes/introduction.html) where I adapted the code from. \n",
    "\n",
    "Feel free to reach out on [Twitter](https://twitter.com/omarsar0) if you have any further questions."
   ]
  }
 ],
 "metadata": {
  "kernelspec": {
   "display_name": "Python 3.9.12 ('base')",
   "language": "python",
   "name": "python3"
  },
  "language_info": {
   "codemirror_mode": {
    "name": "ipython",
    "version": 3
   },
   "file_extension": ".py",
   "mimetype": "text/x-python",
   "name": "python",
   "nbconvert_exporter": "python",
   "pygments_lexer": "ipython3",
   "version": "3.10.9"
  },
  "orig_nbformat": 4,
  "vscode": {
   "interpreter": {
    "hash": "d4d1e4263499bec80672ea0156c357c1ee493ec2b1c70f0acce89fc37c4a6abe"
   }
  }
 },
 "nbformat": 4,
 "nbformat_minor": 2
}
