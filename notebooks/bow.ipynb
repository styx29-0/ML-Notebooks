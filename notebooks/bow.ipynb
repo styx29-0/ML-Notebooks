{
 "cells": [
  {
   "attachments": {},
   "cell_type": "markdown",
   "metadata": {},
   "source": [
    "# Bag of Words Text Classifier\n",
    "\n",
    "The code below implements a simple bag of words text classifier.\n",
    "- We tokenize the text, create a vocabulary and encode each piece of text in the dataset\n",
    "- The lookup allows for extracting embeddings for each tokenized inputs\n",
    "- The embedding vectors are added together with a bias vector\n",
    "- The resulting vector is referred to as the scores\n",
    "- The score are applied a softmax to generate probabilities which are used for the classification task\n",
    "\n",
    "The code used in this notebook was inspired by code from the [official repo](https://github.com/neubig/nn4nlp-code) used in the [CMU Neural Networks for NLP class](http://www.phontron.com/class/nn4nlp2021/schedule.html) by [Graham Neubig](http://www.phontron.com/index.php). \n",
    "\n",
    "![img txt](../img/bow.png?raw=true)"
   ]
  },
  {
   "cell_type": "code",
   "execution_count": 4,
   "metadata": {},
   "outputs": [],
   "source": [
    "# 导包\n",
    "import torch\n",
    "import random\n",
    "import torch.nn as nn"
   ]
  },
  {
   "attachments": {},
   "cell_type": "markdown",
   "metadata": {},
   "source": [
    "### Download the Data"
   ]
  },
  {
   "cell_type": "code",
   "execution_count": 2,
   "metadata": {},
   "outputs": [],
   "source": [
    "%%capture\n",
    "\n",
    "# download the files\n",
    "!wget https://raw.githubusercontent.com/neubig/nn4nlp-code/master/data/classes/dev.txt\n",
    "!wget https://raw.githubusercontent.com/neubig/nn4nlp-code/master/data/classes/test.txt\n",
    "!wget https://raw.githubusercontent.com/neubig/nn4nlp-code/master/data/classes/train.txt\n",
    "\n",
    "# create the data folders\n",
    "!mkdir data data/classes\n",
    "!cp dev.txt data/classes\n",
    "!cp test.txt data/classes\n",
    "!cp train.txt data/classes"
   ]
  },
  {
   "attachments": {},
   "cell_type": "markdown",
   "metadata": {},
   "source": [
    "### Read the Data"
   ]
  },
  {
   "cell_type": "code",
   "execution_count": 5,
   "metadata": {},
   "outputs": [],
   "source": [
    "# function to read in data, process each line and split columns by \" ||| \"\n",
    "def read_data(filename):            # 用于读取数据文件并处理每一行数据\n",
    "    data = []           # 空列表\n",
    "    with open(filename, 'r') as f:      # 使用open函数以只读模式打开文件filename\n",
    "        for line in f:          # 获取每一行\n",
    "            line = line.lower().strip()     # 将行数据转换为小写，并去除首尾的空格和换行符\n",
    "            line = line.split(' ||| ')      # 将行数据按照字符串\" ||| \"进行分割，返回一个包含分割后元素的列表\n",
    "            data.append(line)               # 将处理后的行数据添加到列表中\n",
    "    return data\n",
    "\n",
    "train_data = read_data('data/classes/train.txt')        # 训练数据\n",
    "test_data = read_data('data/classes/test.txt')          # 测试数据"
   ]
  },
  {
   "attachments": {},
   "cell_type": "markdown",
   "metadata": {},
   "source": [
    "### Construct the Vocab and Datasets"
   ]
  },
  {
   "cell_type": "code",
   "execution_count": 6,
   "metadata": {},
   "outputs": [],
   "source": [
    "# creating the word and tag indices\n",
    "word_to_index = {}      # 存储词语到索引的映射关系\n",
    "word_to_index[\"<unk>\"] = len(word_to_index) # 特殊标记<unk>添加到词语索引字典中，索引为当前字典的长度\n",
    "tag_to_index = {}       # 存储标签到索引的映射关系\n",
    "\n",
    "# create word to index dictionary and tag to index dictionary from data\n",
    "def create_dict(data, check_unk=False):     # 从数据中创建词语和标签的索引字典，选择是否检查未知词语\n",
    "    for line in data:                       # 数据中的每一行\n",
    "        for word in line[1].split(\" \"):     # 将词语按空格进行分割，进行迭代\n",
    "            if check_unk == False:\n",
    "                if word not in word_to_index:           # 如果词语不存在于字典中，将词语添加到词语索引字典word_to_index中\n",
    "                    word_to_index[word] = len(word_to_index)\n",
    "            else:\n",
    "                if word not in word_to_index:\n",
    "                    word_to_index[word] = word_to_index[\"<unk>\"]\n",
    "\n",
    "        if line[0] not in tag_to_index:\n",
    "            tag_to_index[line[0]] = len(tag_to_index)\n",
    "\n",
    "# 训练集和测试集的词语索引字典\n",
    "create_dict(train_data)\n",
    "create_dict(test_data, check_unk=True)\n",
    "\n",
    "# 创建词语和标签的张量\n",
    "def create_tensor(data):\n",
    "    for line in data:\n",
    "        # line[1].split(\" \")将当前行的文本数据按空格分割为单词列表\n",
    "        # [word_to_index[word] for word in line[1].split(\" \")]将每个单词通过词语索引字典word_to_index转换为对应的索引\n",
    "        # tag_to_index[line[0]]将当前行的标签通过标签索引字典tag_to_index转换为对应的索引\n",
    "        yield([word_to_index[word] for word in line[1].split(\" \")], tag_to_index[line[0]])\n",
    "\n",
    "# 将数据转换为张量列表\n",
    "train_data = list(create_tensor(train_data))\n",
    "test_data = list(create_tensor(test_data))\n",
    "\n",
    "# 计算单词索引和标签索引数量\n",
    "number_of_words = len(word_to_index)\n",
    "number_of_tags = len(tag_to_index)"
   ]
  },
  {
   "attachments": {},
   "cell_type": "markdown",
   "metadata": {},
   "source": [
    "### Model"
   ]
  },
  {
   "cell_type": "code",
   "execution_count": 7,
   "metadata": {},
   "outputs": [],
   "source": [
    "# cpu or gpu\n",
    "device = \"cuda\" if torch.cuda.is_available() else \"cpu\"\n",
    "\n",
    "# create a simple neural network with embedding layer, bias, and xavier initialization\n",
    "class BoW(torch.nn.Module):\n",
    "    def __init__(self, nwords, ntags):      # 初始化函数，单词数量，标签数量\n",
    "        super(BoW, self).__init__()         # 继承初始化\n",
    "        self.embedding = nn.Embedding(nwords, ntags)        # 嵌入层，将单词索引转换为词向量表示\n",
    "        nn.init.xavier_uniform_(self.embedding.weight)      # 对嵌入层的权重进行初始化，使用 Xavier 均匀分布初始化方法\n",
    "\n",
    "        # 根据当前是否有可用的 CUDA 设备来选择张量类型\n",
    "        type = torch.cuda.FloatTensor if torch.cuda.is_available() else torch.FloatTensor\n",
    "        # 创建全0张量\n",
    "        # requires_grad=True可以进行梯度计算\n",
    "        self.bias = torch.zeros(ntags, requires_grad=True).type(type)\n",
    "\n",
    "    def forward(self, x):\n",
    "        emb = self.embedding(x) # seq_len x ntags (for each seq) 将输入序列转换为词向量表示\n",
    "        out = torch.sum(emb, dim=0) + self.bias # ntags   进行求和并加上偏置项\n",
    "        out = out.view(1, -1) # reshape to (1, ntags)\n",
    "        return out"
   ]
  },
  {
   "attachments": {},
   "cell_type": "markdown",
   "metadata": {},
   "source": [
    "### Pretest the Model"
   ]
  },
  {
   "cell_type": "code",
   "execution_count": 8,
   "metadata": {},
   "outputs": [
    {
     "data": {
      "text/plain": [
       "tensor([[ 0.0124,  0.0164, -0.0182, -0.0014, -0.0120]], device='cuda:0',\n",
       "       grad_fn=<ViewBackward0>)"
      ]
     },
     "execution_count": 8,
     "metadata": {},
     "output_type": "execute_result"
    }
   ],
   "source": [
    "# function to convert sentence into tensor using word_to_index dictionary\n",
    "def sentence_to_tensor(sentence):\n",
    "    return torch.LongTensor([word_to_index[word] for word in sentence.split(\" \")])      # 将索引列表转换为 torch.LongTensor 张量，并返回该张量\n",
    "\n",
    "# test the sentence_to_tensor function\n",
    "type = torch.cuda.LongTensor if torch.cuda.is_available() else torch.LongTensor\n",
    "out = sentence_to_tensor(\"i love dogs\").type(type)\n",
    "test_model = BoW(number_of_words, number_of_tags).to(device)\n",
    "test_model(out)     # 前向传播"
   ]
  },
  {
   "attachments": {},
   "cell_type": "markdown",
   "metadata": {},
   "source": [
    "### Train the Model"
   ]
  },
  {
   "cell_type": "code",
   "execution_count": 9,
   "metadata": {},
   "outputs": [
    {
     "name": "stdout",
     "output_type": "stream",
     "text": [
      "ITER: 1 | train loss/sent: 1.4733 | train accuracy: 0.3631 | test accuracy: 0.4009\n",
      "ITER: 2 | train loss/sent: 1.1216 | train accuracy: 0.6040 | test accuracy: 0.4118\n",
      "ITER: 3 | train loss/sent: 0.9123 | train accuracy: 0.7117 | test accuracy: 0.4154\n",
      "ITER: 4 | train loss/sent: 0.7688 | train accuracy: 0.7664 | test accuracy: 0.4140\n",
      "ITER: 5 | train loss/sent: 0.6631 | train accuracy: 0.8065 | test accuracy: 0.4068\n",
      "ITER: 6 | train loss/sent: 0.5814 | train accuracy: 0.8324 | test accuracy: 0.4059\n",
      "ITER: 7 | train loss/sent: 0.5171 | train accuracy: 0.8507 | test accuracy: 0.4077\n",
      "ITER: 8 | train loss/sent: 0.4640 | train accuracy: 0.8695 | test accuracy: 0.4036\n",
      "ITER: 9 | train loss/sent: 0.4191 | train accuracy: 0.8830 | test accuracy: 0.3991\n",
      "ITER: 10 | train loss/sent: 0.3818 | train accuracy: 0.8929 | test accuracy: 0.3964\n"
     ]
    }
   ],
   "source": [
    "# train and test the BoW model\n",
    "model = BoW(number_of_words, number_of_tags).to(device)     # 创建实例并移动到指定设备\n",
    "criterion = nn.CrossEntropyLoss()                           # 交叉熵损失函数\n",
    "optimizer = torch.optim.Adam(model.parameters())            # 优化器\n",
    "# 根据 CUDA 设备的可用性，定义了 type 变量，用于将输入数据转换为相应的张量类型\n",
    "type = torch.LongTensor\n",
    "if torch.cuda.is_available():\n",
    "    model.to(device)\n",
    "    type = torch.cuda.LongTensor\n",
    "\n",
    "# perform training of the Bow model\n",
    "def train_bow(model, optimizer, criterion, train_data):\n",
    "    for ITER in range(10):      # 迭代\n",
    "        # perform training\n",
    "        model.train()           # 训练模式\n",
    "        random.shuffle(train_data)      # 打乱训练数据\n",
    "        total_loss = 0.0        # 初始化总损失\n",
    "        train_correct = 0       # 初始化正确数量\n",
    "        for sentence, tag in train_data:                    # 遍历每个样本\n",
    "            # 将输入句子和标签转换为张量\n",
    "            sentence = torch.tensor(sentence).type(type)\n",
    "            tag = torch.tensor([tag]).type(type)\n",
    "            output = model(sentence)        # 输出\n",
    "            # 使用torch.argmax函数找到概率最大的类别索引，并使用.item()方法将张量的值转换为Python标量\n",
    "            # 从模型的输出中获取预测的标签\n",
    "            predicted = torch.argmax(output.data.detach()).item()\n",
    "            \n",
    "            loss = criterion(output, tag)       # 损失\n",
    "            total_loss += loss.item()           # 将当前样本的损失累加到总损失\n",
    "\n",
    "            optimizer.zero_grad()               # 梯度清零\n",
    "            loss.backward()                     # 根据损失值计算梯度\n",
    "            optimizer.step()                    # 优化器参数更新\n",
    "\n",
    "            if predicted == tag: train_correct+=1       # 如果预测标签与实际标签相等，则将正确数量增加1\n",
    "\n",
    "        # perform testing of the model\n",
    "        model.eval()\n",
    "        test_correct = 0\n",
    "        for sentence, tag in test_data:\n",
    "            sentence = torch.tensor(sentence).type(type)\n",
    "            output = model(sentence)\n",
    "            predicted = torch.argmax(output.data.detach()).item()\n",
    "            if predicted == tag: test_correct += 1\n",
    "        \n",
    "        # print model performance results\n",
    "        log = f'ITER: {ITER+1} | ' \\\n",
    "            f'train loss/sent: {total_loss/len(train_data):.4f} | ' \\\n",
    "            f'train accuracy: {train_correct/len(train_data):.4f} | ' \\\n",
    "            f'test accuracy: {test_correct/len(test_data):.4f}'\n",
    "        print(log)\n",
    "\n",
    "# call the train_bow function\n",
    "train_bow(model, optimizer, criterion, train_data)      # 训练并测试"
   ]
  }
 ],
 "metadata": {
  "kernelspec": {
   "display_name": "nlp",
   "language": "python",
   "name": "python3"
  },
  "language_info": {
   "codemirror_mode": {
    "name": "ipython",
    "version": 3
   },
   "file_extension": ".py",
   "mimetype": "text/x-python",
   "name": "python",
   "nbconvert_exporter": "python",
   "pygments_lexer": "ipython3",
   "version": "3.7.13"
  },
  "orig_nbformat": 4,
  "vscode": {
   "interpreter": {
    "hash": "154abf72fb8cc0db1aa0e7366557ff891bff86d6d75b7e5f2e68a066d591bfd7"
   }
  }
 },
 "nbformat": 4,
 "nbformat_minor": 2
}
